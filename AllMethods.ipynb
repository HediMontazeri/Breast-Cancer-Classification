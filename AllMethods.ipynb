{
 "cells": [
  {
   "cell_type": "code",
   "execution_count": 81,
   "metadata": {},
   "outputs": [],
   "source": [
    "#data comes from https://archive.ics.uci.edu/ml/datasets/breast+cancer+wisconsin+(original)\n",
    "\n",
    "#all necessary libraries\n",
    "import matplotlib as pl\n",
    "import matplotlib.pyplot as plt\n",
    "import seaborn as sns\n",
    "import numpy as np\n",
    "import tensorflow as tf\n",
    "from sklearn import preprocessing, neighbors, model_selection\n",
    "from sklearn import preprocessing, neighbors, model_selection\n",
    "from sklearn.svm import SVC\n",
    "from sklearn.linear_model import LinearRegression, LogisticRegression\n",
    "import warnings\n",
    "from tensorflow import keras\n",
    "\n",
    "#ignore warning messages\n",
    "warnings.filterwarnings(\"ignore\", category=FutureWarning)"
   ]
  },
  {
   "cell_type": "code",
   "execution_count": 82,
   "metadata": {},
   "outputs": [],
   "source": [
    "#reading the data\n",
    "df = pd.read_csv('data.data')"
   ]
  },
  {
   "cell_type": "code",
   "execution_count": 83,
   "metadata": {},
   "outputs": [
    {
     "data": {
      "text/html": [
       "<div>\n",
       "<style scoped>\n",
       "    .dataframe tbody tr th:only-of-type {\n",
       "        vertical-align: middle;\n",
       "    }\n",
       "\n",
       "    .dataframe tbody tr th {\n",
       "        vertical-align: top;\n",
       "    }\n",
       "\n",
       "    .dataframe thead th {\n",
       "        text-align: right;\n",
       "    }\n",
       "</style>\n",
       "<table border=\"1\" class=\"dataframe\">\n",
       "  <thead>\n",
       "    <tr style=\"text-align: right;\">\n",
       "      <th></th>\n",
       "      <th>id</th>\n",
       "      <th>clump_tickness</th>\n",
       "      <th>unif_cell_size</th>\n",
       "      <th>unif_cell_shape</th>\n",
       "      <th>marg_adhesion</th>\n",
       "      <th>single_epith_cell_size</th>\n",
       "      <th>bare_nuclei</th>\n",
       "      <th>bland_chrom</th>\n",
       "      <th>norm_nucleoli</th>\n",
       "      <th>mitoses</th>\n",
       "      <th>class</th>\n",
       "    </tr>\n",
       "  </thead>\n",
       "  <tbody>\n",
       "    <tr>\n",
       "      <th>0</th>\n",
       "      <td>1000025</td>\n",
       "      <td>5</td>\n",
       "      <td>1</td>\n",
       "      <td>1</td>\n",
       "      <td>1</td>\n",
       "      <td>2</td>\n",
       "      <td>1</td>\n",
       "      <td>3</td>\n",
       "      <td>1</td>\n",
       "      <td>1</td>\n",
       "      <td>2</td>\n",
       "    </tr>\n",
       "    <tr>\n",
       "      <th>1</th>\n",
       "      <td>1002945</td>\n",
       "      <td>5</td>\n",
       "      <td>4</td>\n",
       "      <td>4</td>\n",
       "      <td>5</td>\n",
       "      <td>7</td>\n",
       "      <td>10</td>\n",
       "      <td>3</td>\n",
       "      <td>2</td>\n",
       "      <td>1</td>\n",
       "      <td>2</td>\n",
       "    </tr>\n",
       "    <tr>\n",
       "      <th>2</th>\n",
       "      <td>1015425</td>\n",
       "      <td>3</td>\n",
       "      <td>1</td>\n",
       "      <td>1</td>\n",
       "      <td>1</td>\n",
       "      <td>2</td>\n",
       "      <td>2</td>\n",
       "      <td>3</td>\n",
       "      <td>1</td>\n",
       "      <td>1</td>\n",
       "      <td>2</td>\n",
       "    </tr>\n",
       "    <tr>\n",
       "      <th>3</th>\n",
       "      <td>1016277</td>\n",
       "      <td>6</td>\n",
       "      <td>8</td>\n",
       "      <td>8</td>\n",
       "      <td>1</td>\n",
       "      <td>3</td>\n",
       "      <td>4</td>\n",
       "      <td>3</td>\n",
       "      <td>7</td>\n",
       "      <td>1</td>\n",
       "      <td>2</td>\n",
       "    </tr>\n",
       "    <tr>\n",
       "      <th>4</th>\n",
       "      <td>1017023</td>\n",
       "      <td>4</td>\n",
       "      <td>1</td>\n",
       "      <td>1</td>\n",
       "      <td>3</td>\n",
       "      <td>2</td>\n",
       "      <td>1</td>\n",
       "      <td>3</td>\n",
       "      <td>1</td>\n",
       "      <td>1</td>\n",
       "      <td>2</td>\n",
       "    </tr>\n",
       "  </tbody>\n",
       "</table>\n",
       "</div>"
      ],
      "text/plain": [
       "        id  clump_tickness  unif_cell_size  unif_cell_shape  marg_adhesion  \\\n",
       "0  1000025               5               1                1              1   \n",
       "1  1002945               5               4                4              5   \n",
       "2  1015425               3               1                1              1   \n",
       "3  1016277               6               8                8              1   \n",
       "4  1017023               4               1                1              3   \n",
       "\n",
       "   single_epith_cell_size bare_nuclei  bland_chrom  norm_nucleoli  mitoses  \\\n",
       "0                       2           1            3              1        1   \n",
       "1                       7          10            3              2        1   \n",
       "2                       2           2            3              1        1   \n",
       "3                       3           4            3              7        1   \n",
       "4                       2           1            3              1        1   \n",
       "\n",
       "   class  \n",
       "0      2  \n",
       "1      2  \n",
       "2      2  \n",
       "3      2  \n",
       "4      2  "
      ]
     },
     "execution_count": 83,
     "metadata": {},
     "output_type": "execute_result"
    }
   ],
   "source": [
    "# 1. Sample code number: id number \n",
    "# 2. Clump Thickness: 1 - 10 \n",
    "# 3. Uniformity of Cell Size: 1 - 10 \n",
    "# 4. Uniformity of Cell Shape: 1 - 10 \n",
    "# 5. Marginal Adhesion: 1 - 10 \n",
    "# 6. Single Epithelial Cell Size: 1 - 10 \n",
    "# 7. Bare Nuclei: 1 - 10 \n",
    "# 8. Bland Chromatin: 1 - 10 \n",
    "# 9. Normal Nucleoli: 1 - 10 \n",
    "# 10. Mitoses: 1 - 10 \n",
    "# 11. Class: (2 for benign, 4 for malignant)\n",
    "df.head()"
   ]
  },
  {
   "cell_type": "code",
   "execution_count": 84,
   "metadata": {},
   "outputs": [],
   "source": [
    "#the fisrt column is id, which has nothing to do with poredicting if a cell is malignant or benign\n",
    "df = df.drop(['id'],1)"
   ]
  },
  {
   "cell_type": "code",
   "execution_count": 85,
   "metadata": {},
   "outputs": [],
   "source": [
    "#missing values are identified with ?, this line will replace them with -99999 which is an outlier \n",
    "df.replace('?', -99999, inplace=True)"
   ]
  },
  {
   "cell_type": "code",
   "execution_count": 86,
   "metadata": {},
   "outputs": [],
   "source": [
    "#renmoving na\n",
    "df.dropna(inplace = True)"
   ]
  },
  {
   "cell_type": "code",
   "execution_count": 87,
   "metadata": {},
   "outputs": [
    {
     "name": "stdout",
     "output_type": "stream",
     "text": [
      "                        clump_tickness  unif_cell_size  unif_cell_shape  \\\n",
      "clump_tickness                1.000000        0.644913         0.654589   \n",
      "unif_cell_size                0.644913        1.000000         0.906882   \n",
      "unif_cell_shape               0.654589        0.906882         1.000000   \n",
      "marg_adhesion                 0.486356        0.705582         0.683079   \n",
      "single_epith_cell_size        0.521816        0.751799         0.719668   \n",
      "bland_chrom                   0.558428        0.755721         0.735948   \n",
      "norm_nucleoli                 0.535835        0.722865         0.719446   \n",
      "mitoses                       0.350034        0.458693         0.438911   \n",
      "class                         0.716001        0.817904         0.818934   \n",
      "\n",
      "                        marg_adhesion  single_epith_cell_size  bland_chrom  \\\n",
      "clump_tickness               0.486356                0.521816     0.558428   \n",
      "unif_cell_size               0.705582                0.751799     0.755721   \n",
      "unif_cell_shape              0.683079                0.719668     0.735948   \n",
      "marg_adhesion                1.000000                0.599599     0.666715   \n",
      "single_epith_cell_size       0.599599                1.000000     0.616102   \n",
      "bland_chrom                  0.666715                0.616102     1.000000   \n",
      "norm_nucleoli                0.603352                0.628881     0.665878   \n",
      "mitoses                      0.417633                0.479101     0.344169   \n",
      "class                        0.696800                0.682785     0.756616   \n",
      "\n",
      "                        norm_nucleoli   mitoses     class  \n",
      "clump_tickness               0.535835  0.350034  0.716001  \n",
      "unif_cell_size               0.722865  0.458693  0.817904  \n",
      "unif_cell_shape              0.719446  0.438911  0.818934  \n",
      "marg_adhesion                0.603352  0.417633  0.696800  \n",
      "single_epith_cell_size       0.628881  0.479101  0.682785  \n",
      "bland_chrom                  0.665878  0.344169  0.756616  \n",
      "norm_nucleoli                1.000000  0.428336  0.712244  \n",
      "mitoses                      0.428336  1.000000  0.423170  \n",
      "class                        0.712244  0.423170  1.000000  \n"
     ]
    }
   ],
   "source": [
    "#printing the correlatin matrix\n",
    "print (df.corr())"
   ]
  },
  {
   "cell_type": "code",
   "execution_count": 88,
   "metadata": {},
   "outputs": [
    {
     "data": {
      "text/plain": [
       "<matplotlib.axes._subplots.AxesSubplot at 0x1a43be17b8>"
      ]
     },
     "execution_count": 88,
     "metadata": {},
     "output_type": "execute_result"
    },
    {
     "data": {
      "image/png": "[encoded data removed]",
      "text/plain": [
       "<Figure size 720x576 with 2 Axes>"
      ]
     },
     "metadata": {
      "needs_background": "light"
     },
     "output_type": "display_data"
    }
   ],
   "source": [
    "#creating a heat map of correlation matrix\n",
    "f, ax = plt.subplots(figsize=(10, 8))\n",
    "corr = df.corr()\n",
    "sb.heatmap(corr, mask=np.zeros_like(corr, dtype=np.bool), cmap=sns.diverging_palette(220, 10, as_cmap=True),square=True, ax=ax)"
   ]
  },
  {
   "cell_type": "code",
   "execution_count": 89,
   "metadata": {},
   "outputs": [],
   "source": [
    "#correlation shows that mitoses doesn't have a strong correlation with the class. In the first step, we are gonna keep that\n",
    "#but we can explore removing it and see it affects the accuracy of the model"
   ]
  },
  {
   "cell_type": "code",
   "execution_count": null,
   "metadata": {},
   "outputs": [],
   "source": []
  },
  {
   "cell_type": "code",
   "execution_count": 90,
   "metadata": {},
   "outputs": [],
   "source": [
    "# the label of the class is changed to 1 and 0 \n",
    "df['class'] = df['class'].replace(2,0)\n",
    "df['class'] = df['class'].replace(4,1)\n"
   ]
  },
  {
   "cell_type": "code",
   "execution_count": 91,
   "metadata": {},
   "outputs": [],
   "source": [
    "# X is features, Y is lable\n",
    "X = df.drop(['class'], 1)\n",
    "y = df['class']\n",
    "#spliting the data into 80% training and 20% testing data sets. \n",
    "X_train, X_test, y_train, y_test = model_selection.train_test_split(X, y, test_size=0.2)"
   ]
  },
  {
   "cell_type": "code",
   "execution_count": 92,
   "metadata": {},
   "outputs": [],
   "source": [
    "#rescaling all inputs to [0,1]\n",
    "min_max_scaler = preprocessing.MinMaxScaler()\n",
    "np_scaled = min_max_scaler.fit_transform(X_train.astype(float))\n",
    "X_train_normalized = pd.DataFrame(np_scaled)\n",
    "\n",
    "np_scaled = min_max_scaler.fit_transform(X_test.astype(float))\n",
    "X_test_normalized = pd.DataFrame(np_scaled)"
   ]
  },
  {
   "cell_type": "code",
   "execution_count": 93,
   "metadata": {},
   "outputs": [],
   "source": [
    "#Linear Regression\n",
    "clfReg= LinearRegression().fit(X_train, y_train)"
   ]
  },
  {
   "cell_type": "code",
   "execution_count": 94,
   "metadata": {},
   "outputs": [],
   "source": [
    "#Binary Logistic Regression\n",
    "clflog= LogisticRegression().fit(X_train, y_train)"
   ]
  },
  {
   "cell_type": "code",
   "execution_count": 95,
   "metadata": {},
   "outputs": [],
   "source": [
    "# Support Vector machine\n",
    "clfsvm = SVC().fit(X_train, y_train)"
   ]
  },
  {
   "cell_type": "code",
   "execution_count": 96,
   "metadata": {},
   "outputs": [],
   "source": [
    "# K nearest Neighbors\n",
    "clfknn = neighbors.KNeighborsClassifier().fit(X_train, y_train)"
   ]
  },
  {
   "cell_type": "code",
   "execution_count": 103,
   "metadata": {},
   "outputs": [],
   "source": [
    "X_train_normalized = X_train_normalized.as_matrix()\n",
    "y_train = y_train.as_matrix()"
   ]
  },
  {
   "cell_type": "code",
   "execution_count": 108,
   "metadata": {},
   "outputs": [
    {
     "name": "stdout",
     "output_type": "stream",
     "text": [
      "Epoch 1/10\n",
      "559/559 [==============================] - 1s 2ms/step - loss: 0.6896 - mean_squared_error: 0.2482\n",
      "Epoch 2/10\n",
      "559/559 [==============================] - 0s 217us/step - loss: 0.6896 - mean_squared_error: 0.2482\n",
      "Epoch 3/10\n",
      "559/559 [==============================] - 0s 221us/step - loss: 0.6896 - mean_squared_error: 0.2482\n",
      "Epoch 4/10\n",
      "559/559 [==============================] - 0s 218us/step - loss: 0.6896 - mean_squared_error: 0.2482\n",
      "Epoch 5/10\n",
      "559/559 [==============================] - 0s 224us/step - loss: 0.6896 - mean_squared_error: 0.2482\n",
      "Epoch 6/10\n",
      "559/559 [==============================] - 0s 219us/step - loss: 0.6895 - mean_squared_error: 0.2482\n",
      "Epoch 7/10\n",
      "559/559 [==============================] - 0s 247us/step - loss: 0.6895 - mean_squared_error: 0.2482\n",
      "Epoch 8/10\n",
      "559/559 [==============================] - 0s 225us/step - loss: 0.6895 - mean_squared_error: 0.2482\n",
      "Epoch 9/10\n",
      "559/559 [==============================] - 0s 219us/step - loss: 0.6895 - mean_squared_error: 0.2482\n",
      "Epoch 10/10\n",
      "559/559 [==============================] - 0s 225us/step - loss: 0.6895 - mean_squared_error: 0.2482\n"
     ]
    },
    {
     "data": {
      "text/plain": [
       "<tensorflow.python.keras.callbacks.History at 0x1a44d99d68>"
      ]
     },
     "execution_count": 108,
     "metadata": {},
     "output_type": "execute_result"
    }
   ],
   "source": [
    "#buidling NN\n",
    "model = keras.Sequential([\n",
    "    keras.layers.Dense(9, activation=tf.nn.relu),\n",
    "    keras.layers.Dense(50, activation=tf.nn.softmax),\n",
    "    keras.layers.Dense(1, activation=tf.nn.sigmoid)\n",
    "    ])\n",
    "#because the class is binary, we should use binary_crossentropy for the loss funstion\n",
    "model.compile(optimizer=tf.train.AdadeltaOptimizer(),\n",
    "              loss ='binary_crossentropy',\n",
    "              metrics = ['mse'])\n",
    "model.fit(X_train_normalized, y_train, batch_size= 10, epochs=10)"
   ]
  },
  {
   "cell_type": "code",
   "execution_count": 109,
   "metadata": {},
   "outputs": [
    {
     "name": "stdout",
     "output_type": "stream",
     "text": [
      "Regression Accuracy 0.7363912863530317\n",
      "Logistic Regression Accuracy 0.9285714285714286\n",
      "SVM Accuracy 0.9285714285714286\n",
      "KNearest Neighbors Accuracy 0.9285714285714286\n",
      "140/140 [==============================] - 0s 2ms/step\n",
      "0.6783549121447972 0.24260595568588803\n"
     ]
    }
   ],
   "source": [
    "# accuracy of all models\n",
    "print('Regression Accuracy' ,clfReg.score(X_test, y_test))\n",
    "print('Logistic Regression Accuracy',clflog.score(X_test, y_test))\n",
    "print('SVM Accuracy',clfsvm.score(X_test, y_test))\n",
    "print('KNearest Neighbors Accuracy',clfknn.score(X_test, y_test))\n",
    "test_loss, test_acc = model.evaluate(X_test, y_test)\n",
    "print(test_loss, test_acc)"
   ]
  },
  {
   "cell_type": "code",
   "execution_count": 110,
   "metadata": {},
   "outputs": [
    {
     "name": "stdout",
     "output_type": "stream",
     "text": [
      "Regression Prediction [0.1169423  0.05688108]\n",
      "Logistic Regression Prediction [0 0]\n",
      "SVM Prediction [0 0]\n",
      "KNearest Prediction [0 0]\n",
      "Neural Network [[0]\n",
      " [0]]\n"
     ]
    }
   ],
   "source": [
    "# predict an example that the model hasn't seen before\n",
    "example = np.array([[1,1,5,1,2,3,3,1,1], [1,1,2,1,2,1,3,3,2]])\n",
    "\n",
    "print('Regression Prediction',clfReg.predict(example))\n",
    "print('Logistic Regression Prediction',clflog.predict(example))\n",
    "print('SVM Prediction',clfsvm.predict(example))\n",
    "print('KNearest Prediction',clfknn.predict(example))\n",
    "print('Neural Network',model.predict_classes(example))"
   ]
  }
 ],
 "metadata": {
  "kernelspec": {
   "display_name": "Python 3",
   "language": "python",
   "name": "python3"
  },
  "language_info": {
   "codemirror_mode": {
    "name": "ipython",
    "version": 3
   },
   "file_extension": ".py",
   "mimetype": "text/x-python",
   "name": "python",
   "nbconvert_exporter": "python",
   "pygments_lexer": "ipython3",
   "version": "3.6.6"
  }
 },
 "nbformat": 4,
 "nbformat_minor": 2
}
